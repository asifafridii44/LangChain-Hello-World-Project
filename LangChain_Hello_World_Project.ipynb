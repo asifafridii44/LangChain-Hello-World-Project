{
  "nbformat": 4,
  "nbformat_minor": 0,
  "metadata": {
    "colab": {
      "provenance": []
    },
    "kernelspec": {
      "name": "python3",
      "display_name": "Python 3"
    },
    "language_info": {
      "name": "python"
    }
  },
  "cells": [
    {
      "cell_type": "code",
      "execution_count": 9,
      "metadata": {
        "id": "zrhtfftDHcIB"
      },
      "outputs": [],
      "source": [
        "!pip install -qU langchain"
      ]
    },
    {
      "cell_type": "code",
      "source": [
        "import google.generativeai as genai\n",
        "from google.colab import userdata\n",
        "import os\n",
        "import getpass"
      ],
      "metadata": {
        "id": "Zr1J1Co2IHZT"
      },
      "execution_count": 2,
      "outputs": []
    },
    {
      "cell_type": "code",
      "source": [
        "if \"GOOGLE_API_KEY\" not in os.environ:\n",
        "    os.environ[\"GOOGLE_API_KEY\"] = getpass.getpass(\"Enter your Google AI API key: \")\n"
      ],
      "metadata": {
        "id": "GbFuLjzIINnx",
        "colab": {
          "base_uri": "https://localhost:8080/"
        },
        "outputId": "e2021c28-09ab-4ef2-a560-827ddfe0f7d3"
      },
      "execution_count": 3,
      "outputs": [
        {
          "name": "stdout",
          "output_type": "stream",
          "text": [
            "Enter your Google AI API key: ··········\n"
          ]
        }
      ]
    },
    {
      "cell_type": "code",
      "source": [
        "key = userdata.get(\"GOOGLE_API_KEY\")"
      ],
      "metadata": {
        "id": "l2lO07v7IXKp"
      },
      "execution_count": 4,
      "outputs": []
    },
    {
      "cell_type": "code",
      "source": [
        "!pip install -qU langchain-google-genai"
      ],
      "metadata": {
        "id": "-UsDH7stIXwV",
        "colab": {
          "base_uri": "https://localhost:8080/"
        },
        "outputId": "f9c914fd-efc2-43c3-9b2d-a7f73392a749"
      },
      "execution_count": 5,
      "outputs": [
        {
          "output_type": "stream",
          "name": "stdout",
          "text": [
            "\u001b[?25l   \u001b[90m━━━━━━━━━━━━━━━━━━━━━━━━━━━━━━━━━━━━━━━━\u001b[0m \u001b[32m0.0/41.3 kB\u001b[0m \u001b[31m?\u001b[0m eta \u001b[36m-:--:--\u001b[0m\r\u001b[2K   \u001b[90m━━━━━━━━━━━━━━━━━━━━━━━━━━━━━━━━━━━━━━━━\u001b[0m \u001b[32m41.3/41.3 kB\u001b[0m \u001b[31m2.0 MB/s\u001b[0m eta \u001b[36m0:00:00\u001b[0m\n",
            "\u001b[?25h"
          ]
        }
      ]
    },
    {
      "cell_type": "code",
      "source": [
        "\n",
        "from langchain_google_genai import ChatGoogleGenerativeAI"
      ],
      "metadata": {
        "id": "gwAZtc_4IbXQ"
      },
      "execution_count": 6,
      "outputs": []
    },
    {
      "cell_type": "code",
      "source": [
        "model = \"gemini-2.0-flash-exp\"\n",
        "llm = ChatGoogleGenerativeAI(model=model, temperature=0.7, key=key)"
      ],
      "metadata": {
        "id": "be915QdXIkMK"
      },
      "execution_count": 7,
      "outputs": []
    },
    {
      "cell_type": "code",
      "source": [
        "practice_response = llm.invoke(\"who is imran khan\")\n",
        "print(practice_response)"
      ],
      "metadata": {
        "colab": {
          "base_uri": "https://localhost:8080/"
        },
        "id": "bqpjY3wbLITc",
        "outputId": "d008a183-9863-4814-fc66-cbd98b94fc31"
      },
      "execution_count": 10,
      "outputs": [
        {
          "output_type": "stream",
          "name": "stdout",
          "text": [
            "content=\"Imran Khan is a prominent Pakistani politician and former international cricketer. Here's a breakdown of who he is and his significance:\\n\\n**Early Life and Cricket Career:**\\n\\n* **Born:** October 5, 1952, in Lahore, Pakistan.\\n* **Cricket Legend:** He is widely regarded as one of the greatest cricketers of all time. He was an all-rounder, known for his fast bowling and batting prowess.\\n* **Captaincy:** He led the Pakistan national cricket team to victory in the 1992 Cricket World Cup, a historic achievement for the country.\\n* **Charity Work:** After retiring from cricket, he focused on philanthropic work, establishing the Shaukat Khanum Memorial Cancer Hospital & Research Centre, a free cancer hospital in Lahore, named after his mother.\\n\\n**Political Career:**\\n\\n* **Formation of PTI:** He founded the Pakistan Tehreek-e-Insaf (PTI) political party in 1996, initially focusing on anti-corruption and social justice.\\n* **Rise to Power:** After years of struggling to gain traction, the PTI gained significant popularity, particularly among the youth, and won the 2018 general elections.\\n* **Prime Minister of Pakistan:** He served as the Prime Minister of Pakistan from August 2018 to April 2022.\\n* **Key Policies and Initiatives:**\\n    * **Anti-Corruption Drive:** He campaigned heavily against corruption and initiated investigations into alleged wrongdoings by previous governments.\\n    * **Economic Reforms:** He implemented economic reforms aimed at stabilizing the country's finances and attracting foreign investment.\\n    * **Social Welfare Programs:** He launched social welfare programs like the Ehsaas program, aimed at poverty alleviation.\\n    * **Foreign Policy:** His foreign policy was marked by a focus on regional cooperation and a more independent stance.\\n* **No-Confidence Vote and Ouster:** In April 2022, he was ousted from power through a vote of no-confidence in the National Assembly. He and his party claim this was a result of a US-led conspiracy, which the US has denied.\\n* **Current Political Landscape:** He is currently a prominent opposition leader and continues to hold significant political influence in Pakistan. He has been leading large rallies and protests against the current government, demanding early elections.\\n* **Legal Troubles:** He has faced numerous legal challenges and arrests since being ousted from power, which he claims are politically motivated.\\n\\n**Key Aspects of His Persona:**\\n\\n* **Charismatic Leader:** He is known for his charisma and ability to connect with the masses.\\n* **Populist Appeal:** His message often resonates with the common people, particularly the youth.\\n* **Anti-Establishment Stance:** He has often positioned himself as an outsider challenging the established political order.\\n* **Controversial Figure:** He remains a highly controversial figure, with both ardent supporters and strong critics.\\n\\n**In summary, Imran Khan is a complex and influential figure who has transitioned from a celebrated sportsman to a powerful political leader. He has left an indelible mark on Pakistan's political landscape, and his legacy is still being shaped by current events.**\\n\\nIt's important to note that perspectives on Imran Khan vary widely, and his actions and policies are often subject to intense debate.\\n\" additional_kwargs={} response_metadata={'prompt_feedback': {'block_reason': 0, 'safety_ratings': []}, 'finish_reason': 'STOP', 'safety_ratings': [{'category': 'HARM_CATEGORY_HATE_SPEECH', 'probability': 'NEGLIGIBLE', 'blocked': False}, {'category': 'HARM_CATEGORY_DANGEROUS_CONTENT', 'probability': 'NEGLIGIBLE', 'blocked': False}, {'category': 'HARM_CATEGORY_HARASSMENT', 'probability': 'NEGLIGIBLE', 'blocked': False}, {'category': 'HARM_CATEGORY_SEXUALLY_EXPLICIT', 'probability': 'NEGLIGIBLE', 'blocked': False}]} id='run-2c45db2f-ab2f-451b-85e2-6585bd56bcb2-0' usage_metadata={'input_tokens': 6, 'output_tokens': 685, 'total_tokens': 691, 'input_token_details': {'cache_read': 0}}\n"
          ]
        }
      ]
    }
  ]
}